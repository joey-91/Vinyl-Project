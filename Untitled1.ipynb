{
 "cells": [
  {
   "cell_type": "markdown",
   "metadata": {},
   "source": [
    "# Modelling Record Prices From an Online Marketplace"
   ]
  },
  {
   "cell_type": "markdown",
   "metadata": {},
   "source": [
    "### Contents\n",
    "\n",
    "- [Data Dictionary](#0)\n",
    "- [Exploratory Analysis](#6)\n",
    "\t- [Taking a look at things](#7)\n",
    "\t- [Principal Component Analysis](#8)\n",
    "\t- [Clustering](#9)\n",
    "\t- [Network Analysis](#10)\n",
    "- [Regression Models](#11)\n",
    "\t- [Linear Regression](#12)\n",
    "\t- [Boosted Linear Regression](#13)\n",
    "- [Classifiers](#14)\n",
    "    - [Comparing Classifiers](#15)\n",
    "\t- [Ensemble Model](#16)\n",
    "- [Applied Predictions](#17)"
   ]
  },
  {
   "cell_type": "code",
   "execution_count": null,
   "metadata": {},
   "outputs": [],
   "source": []
  }
 ],
 "metadata": {
  "kernelspec": {
   "display_name": "Python 3",
   "language": "python",
   "name": "python3"
  },
  "language_info": {
   "codemirror_mode": {
    "name": "ipython",
    "version": 3
   },
   "file_extension": ".py",
   "mimetype": "text/x-python",
   "name": "python",
   "nbconvert_exporter": "python",
   "pygments_lexer": "ipython3",
   "version": "3.7.1"
  }
 },
 "nbformat": 4,
 "nbformat_minor": 2
}
